{
 "cells": [
  {
   "cell_type": "markdown",
   "metadata": {},
   "source": [
    "# Scraping websites with Python"
   ]
  },
  {
   "cell_type": "markdown",
   "metadata": {},
   "source": [
    "* Amount of Information on internet is 1,200 petabytes for the BIG FOUR. \n",
    "* Not all information is available through APIs\n",
    "    * Getting Stock market indices for closing every day around the world (Bloomberg !!)\n",
    "    * Real Estate Listings (any type of listings)\n",
    "    * Email address gathering (or any other address gathering) \n",
    "    * etc etc. \n",
    "\n",
    "## Getting Started\n",
    "\n",
    "We will use a pyton library called beautioful soup for scraping information.     "
   ]
  },
  {
   "cell_type": "code",
   "execution_count": 1,
   "metadata": {},
   "outputs": [
    {
     "name": "stdout",
     "output_type": "stream",
     "text": [
      "Requirement already satisfied: BeautifulSoup4 in /anaconda3/lib/python3.6/site-packages (4.6.0)\r\n"
     ]
    }
   ],
   "source": [
    "!pip install BeautifulSoup4\n"
   ]
  },
  {
   "cell_type": "markdown",
   "metadata": {},
   "source": [
    "## Basics of HTML\n",
    "[HTML DOCUMENT OBJECT MODEL](https://www.digitalocean.com/community/tutorials/introduction-to-the-dom)\n",
    "\n",
    "http://htmlcodeeditor.com/\n",
    "\n",
    "    <!DOCTYPE html>  \n",
    "    <html>  \n",
    "        <head>\n",
    "        \n",
    "        </head>\n",
    "        <body>\n",
    "            <h1> First Scraping </h1>\n",
    "            <p> Hello World </p>\n",
    "        <body>\n",
    "    </html>\n",
    "    \n",
    "This is the basic syntax of an HTML webpage. Every <tag> serves a block inside the webpage:\n",
    "\n",
    "    1. <!DOCTYPE html>: HTML documents must start with a type declaration.\n",
    "    2. The HTML document is contained between <html> and </html>.\n",
    "    3. The meta and script declaration of the HTML document is between <head> and </head>.\n",
    "    4. The visible part of the HTML document is between <body> and </body> tags.\n",
    "    5. Title headings are defined with the <h1> through <h6> tags.\n",
    "    6. Paragraphs are defined with the <p> tag.\n",
    "\n",
    "        Other useful tags include <a> for hyperlinks, <table> for tables, <tr> for table rows, and <td> for table columns."
   ]
  },
  {
   "cell_type": "markdown",
   "metadata": {},
   "source": [
    "Also, HTML tags sometimes come with `id` or `class` attributes. \n",
    "\n",
    "* The id attribute specifies a unique id for an HTML tag and the value must be unique within the HTML document. \n",
    "https://www.w3schools.com/tags/att_id.asp\n",
    "\n",
    "* The class attribute is used to define equal styles for HTML tags with the same class. We can make use of these ids and classes to help us locate the data we want.\n",
    "https://www.w3schools.com/html/html_classes.asp\n",
    "\n",
    "https://css-tricks.com/the-difference-between-id-and-class/\n"
   ]
  },
  {
   "cell_type": "markdown",
   "metadata": {},
   "source": [
    "## Scraping \n",
    "\n",
    "### Scraping Rules\n",
    "\n",
    "1. You should check a website’s Terms and Conditions before you scrape it. Be careful to read the statements about legal use of data. Usually, the data you scrape should not be used for commercial purposes.\n",
    "\n",
    "2. Do not request data from the website too aggressively with your program (also known as spamming). One request for one webpage per second is good practice.\n",
    "\n",
    "3. The layout of a website may change from time to time, so make sure to revisit the site and rewrite your code as needed\n"
   ]
  },
  {
   "cell_type": "markdown",
   "metadata": {},
   "source": [
    "### Inspect the code\n",
    "\n",
    "We’ll be working with data from the official website of the National Gallery of Art in the United States. The National Gallery is an art museum located on the National Mall in Washington, D.C. It holds over 120,000 pieces dated from the Renaissance to the present day done by more than 13,000 artists.\n",
    "\n",
    "We would like to search the Index of Artists, which, at the time of updating this tutorial, is available via the Internet Archive’s Wayback Machine at the following URL:\n",
    "\n",
    "https://web.archive.org/web/20170131230332/https://www.nga.gov/collection/an.shtm"
   ]
  },
  {
   "cell_type": "markdown",
   "metadata": {},
   "source": [
    "Since we’ll be doing this project in order to learn about web scraping with Beautiful Soup, we don’t need to pull too much data from the site, so let’s limit the scope of the artist data we are looking to scrape. Let’s therefore choose one letter — in our example we’ll choose the letter Z.\n",
    "\n",
    "In the Z page, we see that the first artist listed at the time of writing is Zabaglia, Niccola. This info might help us evaluate the scrapping process. We’ll start by working with this first page, with the following URL for the letter Z:\n",
    "\n",
    "#### https://web.archive.org/web/20121007172955/http://www.nga.gov/collection/anZ1.htm\n",
    "\n",
    "The last Z page, last artist !!: \n",
    "\n",
    "#### https://web.archive.org/web/20121010201041/http://www.nga.gov/collection/anZ4.htm"
   ]
  },
  {
   "cell_type": "code",
   "execution_count": 2,
   "metadata": {},
   "outputs": [],
   "source": [
    "# Import necessary libraries\n",
    "\n",
    "import requests\n",
    "from bs4 import BeautifulSoup"
   ]
  },
  {
   "cell_type": "code",
   "execution_count": 4,
   "metadata": {},
   "outputs": [
    {
     "data": {
      "text/plain": [
       "<Response [200]>"
      ]
     },
     "execution_count": 4,
     "metadata": {},
     "output_type": "execute_result"
    }
   ],
   "source": [
    "# Collect first page of artists’ list\n",
    "page = requests.get('https://web.archive.org/web/20121007172955/https://www.nga.gov/collection/anZ1.htm')"
   ]
  },
  {
   "cell_type": "code",
   "execution_count": 5,
   "metadata": {},
   "outputs": [],
   "source": [
    "# Create a BeautifulSoup object\n",
    "soup = BeautifulSoup(page.text, 'html.parser')"
   ]
  },
  {
   "cell_type": "markdown",
   "metadata": {},
   "source": [
    "With our page collected, parsed, and set up as a BeautifulSoup object, we can move on to collecting the data that we would like."
   ]
  },
  {
   "cell_type": "markdown",
   "metadata": {},
   "source": [
    "### Pulling Text From a Web Page\n",
    "\n",
    "we’ll collect artists’ names and the relevant links available on the website. You may want to collect different data, such as the artists’ nationality and dates. Whatever data you would like to collect, you need to find out how it is described by the DOM of the web page.\n",
    "\n",
    "To do this, in your web browser, right-click — or CTRL + click on macOS — on the first artist’s name, Zabaglia, Niccola. Within the context menu that pops up, you should see a menu item similar to Inspect Element (Firefox) or Inspect (Chrome).\n",
    "\n",
    "    1. We’ll see first that the table of names is within <div> tags where class=\"BodyText\". This is important to note so that we only search for text within this section of the web page. \n",
    "\n",
    "    2. Notice that the name Zabaglia, Niccola is in a link tag, since the name references a web page that describes the artist. So we will want to reference the <a> tag for links. Each artist’s name is a reference to a link.\n",
    "\n",
    "To do this, we’ll use Beautiful Soup’s `find()` and `find_all()` methods in order to pull the text of the artists’ names from the BodyText div.\n"
   ]
  },
  {
   "cell_type": "markdown",
   "metadata": {},
   "source": [
    "Now we have a variable, soup, containing the HTML of the page. Here’s where we can start coding the part that extracts the data.\n",
    "\n",
    "Remember the unique layers of our data? BeautifulSoup can help us get into these layers and extract the content with find(). In this case, since the HTML class name is unique on this page, we can simply query <div class=\"name\">."
   ]
  },
  {
   "cell_type": "code",
   "execution_count": 7,
   "metadata": {},
   "outputs": [],
   "source": [
    "# Pull all text from the BodyText div\n",
    "artist_name_list = soup.find(class_='BodyText')"
   ]
  },
  {
   "cell_type": "code",
   "execution_count": 8,
   "metadata": {},
   "outputs": [],
   "source": [
    "# Pull text from all instances of <a> tag within BodyText div\n",
    "artist_name_list_items = artist_name_list.find_all('a')"
   ]
  },
  {
   "cell_type": "code",
   "execution_count": 9,
   "metadata": {},
   "outputs": [
    {
     "data": {
      "text/plain": [
       "[<a href=\"/web/20121007172955/https://www.nga.gov/cgi-bin/tsearch?artistid=11630\">Zabaglia, Niccola</a>,\n",
       " <a href=\"/web/20121007172955/https://www.nga.gov/cgi-bin/tsearch?artistid=34202\">Zaccone, Fabian</a>,\n",
       " <a href=\"/web/20121007172955/https://www.nga.gov/cgi-bin/tsearch?artistid=3475\">Zadkine, Ossip</a>,\n",
       " <a href=\"/web/20121007172955/https://www.nga.gov/cgi-bin/tsearch?artistid=25135\">Zaech, Bernhard</a>,\n",
       " <a href=\"/web/20121007172955/https://www.nga.gov/cgi-bin/tsearch?artistid=2298\">Zagar, Jacob</a>,\n",
       " <a href=\"/web/20121007172955/https://www.nga.gov/cgi-bin/tsearch?artistid=23988\">Zagroba, Idalia</a>,\n",
       " <a href=\"/web/20121007172955/https://www.nga.gov/cgi-bin/tsearch?artistid=8232\">Zaidenberg, A.</a>,\n",
       " <a href=\"/web/20121007172955/https://www.nga.gov/cgi-bin/tsearch?artistid=34154\">Zaidenberg, Arthur</a>,\n",
       " <a href=\"/web/20121007172955/https://www.nga.gov/cgi-bin/tsearch?artistid=4910\">Zaisinger, Matthäus</a>,\n",
       " <a href=\"/web/20121007172955/https://www.nga.gov/cgi-bin/tsearch?artistid=3450\">Zajac, Jack</a>,\n",
       " <a href=\"/web/20121007172955/https://www.nga.gov/cgi-bin/tsearch?artistid=1986\">Zak, Eugène</a>,\n",
       " <a href=\"/web/20121007172955/https://www.nga.gov/cgi-bin/tsearch?artistid=3451\">Zakharov, Gurii Fillipovich</a>,\n",
       " <a href=\"/web/20121007172955/https://www.nga.gov/cgi-bin/tsearch?artistid=20099\">Zakowortny, Igor</a>,\n",
       " <a href=\"/web/20121007172955/https://www.nga.gov/cgi-bin/tsearch?artistid=3452\">Zalce, Alfredo</a>,\n",
       " <a href=\"/web/20121007172955/https://www.nga.gov/cgi-bin/tsearch?artistid=34309\">Zalopany, Michele</a>,\n",
       " <a href=\"/web/20121007172955/https://www.nga.gov/cgi-bin/tsearch?artistid=27191\">Zammiello, Craig</a>,\n",
       " <a href=\"/web/20121007172955/https://www.nga.gov/cgi-bin/tsearch?artistid=5846\">Zammitt, Norman</a>,\n",
       " <a href=\"/web/20121007172955/https://www.nga.gov/cgi-bin/tsearch?artistid=3941\">Zampieri, Domenico</a>,\n",
       " <a href=\"/web/20121007172955/https://www.nga.gov/cgi-bin/tsearch?artistid=3941\">Zampieri, called Domenichino, Domenico</a>,\n",
       " <a href=\"/web/20121007172955/https://www.nga.gov/cgi-bin/tsearch?artistid=3453\">Zanartú, Enrique Antunez</a>,\n",
       " <a href=\"/web/20121007172955/https://www.nga.gov/cgi-bin/tsearch?artistid=35173\">Zanchi, Antonio</a>,\n",
       " <a href=\"/web/20121007172955/https://www.nga.gov/cgi-bin/tsearch?artistid=11133\">Zanetti, Anton Maria</a>,\n",
       " <a href=\"/web/20121007172955/https://www.nga.gov/cgi-bin/tsearch?artistid=3455\">Zanetti Borzino, Leopoldina</a>,\n",
       " <a href=\"/web/20121007172955/https://www.nga.gov/cgi-bin/tsearch?artistid=3454\">Zanetti I, Antonio Maria, conte</a>,\n",
       " <a href=\"/web/20121007172955/https://www.nga.gov/cgi-bin/tsearch?artistid=961\">Zanguidi, Jacopo</a>,\n",
       " <a href=\"/web/20121007172955/https://www.nga.gov/cgi-bin/tsearch?artistid=11597\">Zanini, Giuseppe</a>,\n",
       " <a href=\"/web/20121007172955/https://www.nga.gov/cgi-bin/tsearch?artistid=11597\">Zanini-Viola, Giuseppe</a>,\n",
       " <a href=\"/web/20121007172955/https://www.nga.gov/cgi-bin/tsearch?artistid=11631\">Zanotti, Giampietro</a>,\n",
       " <a href=\"/web/20121007172955/https://www.nga.gov/cgi-bin/tsearch?artistid=3427\">Zao Wou-Ki</a>,\n",
       " <a href=\"/web/20121007172955/https://www.nga.gov/collection/anZ2.htm\">Zas-Zie</a>,\n",
       " <a href=\"/web/20121007172955/https://www.nga.gov/collection/anZ3.htm\">Zie-Zor</a>,\n",
       " <a href=\"/web/20121007172955/https://www.nga.gov/collection/anZ4.htm\"><strong>next<br/>page</strong></a>]"
      ]
     },
     "execution_count": 9,
     "metadata": {},
     "output_type": "execute_result"
    }
   ],
   "source": [
    "artist_name_list_items"
   ]
  },
  {
   "cell_type": "markdown",
   "metadata": {},
   "source": [
    "We need to create a for loop in order to iterate over all the artist names that we just put into the artist_name_list_items variable. \n",
    "\n",
    "We’ll print these names out with the prettify() method in order to turn the Beautiful Soup parse tree into a nicely formatted Unicode string."
   ]
  },
  {
   "cell_type": "code",
   "execution_count": 10,
   "metadata": {},
   "outputs": [
    {
     "name": "stdout",
     "output_type": "stream",
     "text": [
      "<a href=\"/web/20121007172955/https://www.nga.gov/cgi-bin/tsearch?artistid=11630\">\n",
      " Zabaglia, Niccola\n",
      "</a>\n",
      "<a href=\"/web/20121007172955/https://www.nga.gov/cgi-bin/tsearch?artistid=34202\">\n",
      " Zaccone, Fabian\n",
      "</a>\n",
      "<a href=\"/web/20121007172955/https://www.nga.gov/cgi-bin/tsearch?artistid=3475\">\n",
      " Zadkine, Ossip\n",
      "</a>\n",
      "<a href=\"/web/20121007172955/https://www.nga.gov/cgi-bin/tsearch?artistid=25135\">\n",
      " Zaech, Bernhard\n",
      "</a>\n",
      "<a href=\"/web/20121007172955/https://www.nga.gov/cgi-bin/tsearch?artistid=2298\">\n",
      " Zagar, Jacob\n",
      "</a>\n",
      "<a href=\"/web/20121007172955/https://www.nga.gov/cgi-bin/tsearch?artistid=23988\">\n",
      " Zagroba, Idalia\n",
      "</a>\n",
      "<a href=\"/web/20121007172955/https://www.nga.gov/cgi-bin/tsearch?artistid=8232\">\n",
      " Zaidenberg, A.\n",
      "</a>\n",
      "<a href=\"/web/20121007172955/https://www.nga.gov/cgi-bin/tsearch?artistid=34154\">\n",
      " Zaidenberg, Arthur\n",
      "</a>\n",
      "<a href=\"/web/20121007172955/https://www.nga.gov/cgi-bin/tsearch?artistid=4910\">\n",
      " Zaisinger, Matthäus\n",
      "</a>\n",
      "<a href=\"/web/20121007172955/https://www.nga.gov/cgi-bin/tsearch?artistid=3450\">\n",
      " Zajac, Jack\n",
      "</a>\n",
      "<a href=\"/web/20121007172955/https://www.nga.gov/cgi-bin/tsearch?artistid=1986\">\n",
      " Zak, Eugène\n",
      "</a>\n",
      "<a href=\"/web/20121007172955/https://www.nga.gov/cgi-bin/tsearch?artistid=3451\">\n",
      " Zakharov, Gurii Fillipovich\n",
      "</a>\n",
      "<a href=\"/web/20121007172955/https://www.nga.gov/cgi-bin/tsearch?artistid=20099\">\n",
      " Zakowortny, Igor\n",
      "</a>\n",
      "<a href=\"/web/20121007172955/https://www.nga.gov/cgi-bin/tsearch?artistid=3452\">\n",
      " Zalce, Alfredo\n",
      "</a>\n",
      "<a href=\"/web/20121007172955/https://www.nga.gov/cgi-bin/tsearch?artistid=34309\">\n",
      " Zalopany, Michele\n",
      "</a>\n",
      "<a href=\"/web/20121007172955/https://www.nga.gov/cgi-bin/tsearch?artistid=27191\">\n",
      " Zammiello, Craig\n",
      "</a>\n",
      "<a href=\"/web/20121007172955/https://www.nga.gov/cgi-bin/tsearch?artistid=5846\">\n",
      " Zammitt, Norman\n",
      "</a>\n",
      "<a href=\"/web/20121007172955/https://www.nga.gov/cgi-bin/tsearch?artistid=3941\">\n",
      " Zampieri, Domenico\n",
      "</a>\n",
      "<a href=\"/web/20121007172955/https://www.nga.gov/cgi-bin/tsearch?artistid=3941\">\n",
      " Zampieri, called Domenichino, Domenico\n",
      "</a>\n",
      "<a href=\"/web/20121007172955/https://www.nga.gov/cgi-bin/tsearch?artistid=3453\">\n",
      " Zanartú, Enrique Antunez\n",
      "</a>\n",
      "<a href=\"/web/20121007172955/https://www.nga.gov/cgi-bin/tsearch?artistid=35173\">\n",
      " Zanchi, Antonio\n",
      "</a>\n",
      "<a href=\"/web/20121007172955/https://www.nga.gov/cgi-bin/tsearch?artistid=11133\">\n",
      " Zanetti, Anton Maria\n",
      "</a>\n",
      "<a href=\"/web/20121007172955/https://www.nga.gov/cgi-bin/tsearch?artistid=3455\">\n",
      " Zanetti Borzino, Leopoldina\n",
      "</a>\n",
      "<a href=\"/web/20121007172955/https://www.nga.gov/cgi-bin/tsearch?artistid=3454\">\n",
      " Zanetti I, Antonio Maria, conte\n",
      "</a>\n",
      "<a href=\"/web/20121007172955/https://www.nga.gov/cgi-bin/tsearch?artistid=961\">\n",
      " Zanguidi, Jacopo\n",
      "</a>\n",
      "<a href=\"/web/20121007172955/https://www.nga.gov/cgi-bin/tsearch?artistid=11597\">\n",
      " Zanini, Giuseppe\n",
      "</a>\n",
      "<a href=\"/web/20121007172955/https://www.nga.gov/cgi-bin/tsearch?artistid=11597\">\n",
      " Zanini-Viola, Giuseppe\n",
      "</a>\n",
      "<a href=\"/web/20121007172955/https://www.nga.gov/cgi-bin/tsearch?artistid=11631\">\n",
      " Zanotti, Giampietro\n",
      "</a>\n",
      "<a href=\"/web/20121007172955/https://www.nga.gov/cgi-bin/tsearch?artistid=3427\">\n",
      " Zao Wou-Ki\n",
      "</a>\n",
      "<a href=\"/web/20121007172955/https://www.nga.gov/collection/anZ2.htm\">\n",
      " Zas-Zie\n",
      "</a>\n",
      "\n",
      "<a href=\"/web/20121007172955/https://www.nga.gov/collection/anZ3.htm\">\n",
      " Zie-Zor\n",
      "</a>\n",
      "\n",
      "<a href=\"/web/20121007172955/https://www.nga.gov/collection/anZ4.htm\">\n",
      " <strong>\n",
      "  next\n",
      "  <br/>\n",
      "  page\n",
      " </strong>\n",
      "</a>\n"
     ]
    }
   ],
   "source": [
    "# Create for loop to print out all artists' names\n",
    "for artist_name in artist_name_list_items:\n",
    "    print(artist_name.prettify())"
   ]
  },
  {
   "cell_type": "markdown",
   "metadata": {},
   "source": [
    "    What we see in the output at this point is the full text and tags related to all of the artists’ names within the <a> tags found in the <div class=\"BodyText\"> tag on the first page, as well as some additional link text at the bottom. Since we don’t want this extra information, let’s work on removing this in the next section.\n",
    "\n"
   ]
  },
  {
   "cell_type": "markdown",
   "metadata": {},
   "source": [
    "### Remove unwanted data\n",
    "\n",
    "    In order to remove the bottom links of the page, let’s again right-click and Inspect the DOM. We’ll see that the links on the bottom of the <div class=\"BodyText\"> section are contained in an HTML table: <table class=\"AlphaNav\">:\n",
    "    \n",
    "We can therefore use Beautiful Soup to find the AlphaNav class and use the decompose() method to remove a tag from the parse tree and then destroy it along with its contents."
   ]
  },
  {
   "cell_type": "code",
   "execution_count": 12,
   "metadata": {},
   "outputs": [
    {
     "name": "stdout",
     "output_type": "stream",
     "text": [
      "<a href=\"/web/20121007172955/https://www.nga.gov/cgi-bin/tsearch?artistid=11630\">\n",
      " Zabaglia, Niccola\n",
      "</a>\n",
      "<a href=\"/web/20121007172955/https://www.nga.gov/cgi-bin/tsearch?artistid=34202\">\n",
      " Zaccone, Fabian\n",
      "</a>\n",
      "<a href=\"/web/20121007172955/https://www.nga.gov/cgi-bin/tsearch?artistid=3475\">\n",
      " Zadkine, Ossip\n",
      "</a>\n",
      "<a href=\"/web/20121007172955/https://www.nga.gov/cgi-bin/tsearch?artistid=25135\">\n",
      " Zaech, Bernhard\n",
      "</a>\n",
      "<a href=\"/web/20121007172955/https://www.nga.gov/cgi-bin/tsearch?artistid=2298\">\n",
      " Zagar, Jacob\n",
      "</a>\n",
      "<a href=\"/web/20121007172955/https://www.nga.gov/cgi-bin/tsearch?artistid=23988\">\n",
      " Zagroba, Idalia\n",
      "</a>\n",
      "<a href=\"/web/20121007172955/https://www.nga.gov/cgi-bin/tsearch?artistid=8232\">\n",
      " Zaidenberg, A.\n",
      "</a>\n",
      "<a href=\"/web/20121007172955/https://www.nga.gov/cgi-bin/tsearch?artistid=34154\">\n",
      " Zaidenberg, Arthur\n",
      "</a>\n",
      "<a href=\"/web/20121007172955/https://www.nga.gov/cgi-bin/tsearch?artistid=4910\">\n",
      " Zaisinger, Matthäus\n",
      "</a>\n",
      "<a href=\"/web/20121007172955/https://www.nga.gov/cgi-bin/tsearch?artistid=3450\">\n",
      " Zajac, Jack\n",
      "</a>\n",
      "<a href=\"/web/20121007172955/https://www.nga.gov/cgi-bin/tsearch?artistid=1986\">\n",
      " Zak, Eugène\n",
      "</a>\n",
      "<a href=\"/web/20121007172955/https://www.nga.gov/cgi-bin/tsearch?artistid=3451\">\n",
      " Zakharov, Gurii Fillipovich\n",
      "</a>\n",
      "<a href=\"/web/20121007172955/https://www.nga.gov/cgi-bin/tsearch?artistid=20099\">\n",
      " Zakowortny, Igor\n",
      "</a>\n",
      "<a href=\"/web/20121007172955/https://www.nga.gov/cgi-bin/tsearch?artistid=3452\">\n",
      " Zalce, Alfredo\n",
      "</a>\n",
      "<a href=\"/web/20121007172955/https://www.nga.gov/cgi-bin/tsearch?artistid=34309\">\n",
      " Zalopany, Michele\n",
      "</a>\n",
      "<a href=\"/web/20121007172955/https://www.nga.gov/cgi-bin/tsearch?artistid=27191\">\n",
      " Zammiello, Craig\n",
      "</a>\n",
      "<a href=\"/web/20121007172955/https://www.nga.gov/cgi-bin/tsearch?artistid=5846\">\n",
      " Zammitt, Norman\n",
      "</a>\n",
      "<a href=\"/web/20121007172955/https://www.nga.gov/cgi-bin/tsearch?artistid=3941\">\n",
      " Zampieri, Domenico\n",
      "</a>\n",
      "<a href=\"/web/20121007172955/https://www.nga.gov/cgi-bin/tsearch?artistid=3941\">\n",
      " Zampieri, called Domenichino, Domenico\n",
      "</a>\n",
      "<a href=\"/web/20121007172955/https://www.nga.gov/cgi-bin/tsearch?artistid=3453\">\n",
      " Zanartú, Enrique Antunez\n",
      "</a>\n",
      "<a href=\"/web/20121007172955/https://www.nga.gov/cgi-bin/tsearch?artistid=35173\">\n",
      " Zanchi, Antonio\n",
      "</a>\n",
      "<a href=\"/web/20121007172955/https://www.nga.gov/cgi-bin/tsearch?artistid=11133\">\n",
      " Zanetti, Anton Maria\n",
      "</a>\n",
      "<a href=\"/web/20121007172955/https://www.nga.gov/cgi-bin/tsearch?artistid=3455\">\n",
      " Zanetti Borzino, Leopoldina\n",
      "</a>\n",
      "<a href=\"/web/20121007172955/https://www.nga.gov/cgi-bin/tsearch?artistid=3454\">\n",
      " Zanetti I, Antonio Maria, conte\n",
      "</a>\n",
      "<a href=\"/web/20121007172955/https://www.nga.gov/cgi-bin/tsearch?artistid=961\">\n",
      " Zanguidi, Jacopo\n",
      "</a>\n",
      "<a href=\"/web/20121007172955/https://www.nga.gov/cgi-bin/tsearch?artistid=11597\">\n",
      " Zanini, Giuseppe\n",
      "</a>\n",
      "<a href=\"/web/20121007172955/https://www.nga.gov/cgi-bin/tsearch?artistid=11597\">\n",
      " Zanini-Viola, Giuseppe\n",
      "</a>\n",
      "<a href=\"/web/20121007172955/https://www.nga.gov/cgi-bin/tsearch?artistid=11631\">\n",
      " Zanotti, Giampietro\n",
      "</a>\n",
      "<a href=\"/web/20121007172955/https://www.nga.gov/cgi-bin/tsearch?artistid=3427\">\n",
      " Zao Wou-Ki\n",
      "</a>\n"
     ]
    }
   ],
   "source": [
    "# Remove bottom links\n",
    "last_links = soup.find(class_='AlphaNav')\n",
    "last_links.decompose()\n",
    "\n",
    "artist_name_list = soup.find(class_='BodyText')\n",
    "artist_name_list_items = artist_name_list.find_all('a')\n",
    "\n",
    "for artist_name in artist_name_list_items:\n",
    "    print(artist_name.prettify())"
   ]
  },
  {
   "cell_type": "markdown",
   "metadata": {},
   "source": [
    "## Pulling the Contents from a Tag"
   ]
  },
  {
   "cell_type": "markdown",
   "metadata": {},
   "source": [
    "    In order to access only the actual artists’ names, we’ll want to target the contents of the <a> tags rather than print out the entire link tag.\n",
    "\n",
    "We can do this with Beautiful Soup’s `.contents`, which will return the tag’s children as a Python list data type.\n",
    "\n",
    "Let’s revise the for loop so that instead of printing the entire link and its tag, we’ll print the list of children (i.e. the artists’ full names)"
   ]
  },
  {
   "cell_type": "code",
   "execution_count": 16,
   "metadata": {},
   "outputs": [
    {
     "name": "stdout",
     "output_type": "stream",
     "text": [
      "Zabaglia, Niccola\n",
      "Zaccone, Fabian\n",
      "Zadkine, Ossip\n",
      "Zaech, Bernhard\n",
      "Zagar, Jacob\n",
      "Zagroba, Idalia\n",
      "Zaidenberg, A.\n",
      "Zaidenberg, Arthur\n",
      "Zaisinger, Matthäus\n",
      "Zajac, Jack\n",
      "Zak, Eugène\n",
      "Zakharov, Gurii Fillipovich\n",
      "Zakowortny, Igor\n",
      "Zalce, Alfredo\n",
      "Zalopany, Michele\n",
      "Zammiello, Craig\n",
      "Zammitt, Norman\n",
      "Zampieri, Domenico\n",
      "Zampieri, called Domenichino, Domenico\n",
      "Zanartú, Enrique Antunez\n",
      "Zanchi, Antonio\n",
      "Zanetti, Anton Maria\n",
      "Zanetti Borzino, Leopoldina\n",
      "Zanetti I, Antonio Maria, conte\n",
      "Zanguidi, Jacopo\n",
      "Zanini, Giuseppe\n",
      "Zanini-Viola, Giuseppe\n",
      "Zanotti, Giampietro\n",
      "Zao Wou-Ki\n"
     ]
    }
   ],
   "source": [
    "artists = []\n",
    "for artist_name in artist_name_list_items:\n",
    "    names = artist_name.contents[0]\n",
    "    \n",
    "    artists.append(names)\n",
    "    print(names)"
   ]
  },
  {
   "cell_type": "code",
   "execution_count": 17,
   "metadata": {},
   "outputs": [
    {
     "data": {
      "text/plain": [
       "['Zabaglia, Niccola',\n",
       " 'Zaccone, Fabian',\n",
       " 'Zadkine, Ossip',\n",
       " 'Zaech, Bernhard',\n",
       " 'Zagar, Jacob',\n",
       " 'Zagroba, Idalia',\n",
       " 'Zaidenberg, A.',\n",
       " 'Zaidenberg, Arthur',\n",
       " 'Zaisinger, Matthäus',\n",
       " 'Zajac, Jack',\n",
       " 'Zak, Eugène',\n",
       " 'Zakharov, Gurii Fillipovich',\n",
       " 'Zakowortny, Igor',\n",
       " 'Zalce, Alfredo',\n",
       " 'Zalopany, Michele',\n",
       " 'Zammiello, Craig',\n",
       " 'Zammitt, Norman',\n",
       " 'Zampieri, Domenico',\n",
       " 'Zampieri, called Domenichino, Domenico',\n",
       " 'Zanartú, Enrique Antunez',\n",
       " 'Zanchi, Antonio',\n",
       " 'Zanetti, Anton Maria',\n",
       " 'Zanetti Borzino, Leopoldina',\n",
       " 'Zanetti I, Antonio Maria, conte',\n",
       " 'Zanguidi, Jacopo',\n",
       " 'Zanini, Giuseppe',\n",
       " 'Zanini-Viola, Giuseppe',\n",
       " 'Zanotti, Giampietro',\n",
       " 'Zao Wou-Ki']"
      ]
     },
     "execution_count": 17,
     "metadata": {},
     "output_type": "execute_result"
    }
   ],
   "source": [
    "artists"
   ]
  },
  {
   "cell_type": "markdown",
   "metadata": {},
   "source": [
    "    what if we want to also capture the URLs associated with those artists? \n",
    "    \n",
    "    We can extract URLs found within a page’s <a> tags by using Beautiful Soup’s `get('href')`  method "
   ]
  },
  {
   "cell_type": "code",
   "execution_count": 18,
   "metadata": {},
   "outputs": [
    {
     "name": "stdout",
     "output_type": "stream",
     "text": [
      "Zabaglia, Niccola\n",
      "https://web.archive.org/web/20121007172955/https://www.nga.gov/cgi-bin/tsearch?artistid=11630\n",
      "Zaccone, Fabian\n",
      "https://web.archive.org/web/20121007172955/https://www.nga.gov/cgi-bin/tsearch?artistid=34202\n",
      "Zadkine, Ossip\n",
      "https://web.archive.org/web/20121007172955/https://www.nga.gov/cgi-bin/tsearch?artistid=3475\n",
      "Zaech, Bernhard\n",
      "https://web.archive.org/web/20121007172955/https://www.nga.gov/cgi-bin/tsearch?artistid=25135\n",
      "Zagar, Jacob\n",
      "https://web.archive.org/web/20121007172955/https://www.nga.gov/cgi-bin/tsearch?artistid=2298\n",
      "Zagroba, Idalia\n",
      "https://web.archive.org/web/20121007172955/https://www.nga.gov/cgi-bin/tsearch?artistid=23988\n",
      "Zaidenberg, A.\n",
      "https://web.archive.org/web/20121007172955/https://www.nga.gov/cgi-bin/tsearch?artistid=8232\n",
      "Zaidenberg, Arthur\n",
      "https://web.archive.org/web/20121007172955/https://www.nga.gov/cgi-bin/tsearch?artistid=34154\n",
      "Zaisinger, Matthäus\n",
      "https://web.archive.org/web/20121007172955/https://www.nga.gov/cgi-bin/tsearch?artistid=4910\n",
      "Zajac, Jack\n",
      "https://web.archive.org/web/20121007172955/https://www.nga.gov/cgi-bin/tsearch?artistid=3450\n",
      "Zak, Eugène\n",
      "https://web.archive.org/web/20121007172955/https://www.nga.gov/cgi-bin/tsearch?artistid=1986\n",
      "Zakharov, Gurii Fillipovich\n",
      "https://web.archive.org/web/20121007172955/https://www.nga.gov/cgi-bin/tsearch?artistid=3451\n",
      "Zakowortny, Igor\n",
      "https://web.archive.org/web/20121007172955/https://www.nga.gov/cgi-bin/tsearch?artistid=20099\n",
      "Zalce, Alfredo\n",
      "https://web.archive.org/web/20121007172955/https://www.nga.gov/cgi-bin/tsearch?artistid=3452\n",
      "Zalopany, Michele\n",
      "https://web.archive.org/web/20121007172955/https://www.nga.gov/cgi-bin/tsearch?artistid=34309\n",
      "Zammiello, Craig\n",
      "https://web.archive.org/web/20121007172955/https://www.nga.gov/cgi-bin/tsearch?artistid=27191\n",
      "Zammitt, Norman\n",
      "https://web.archive.org/web/20121007172955/https://www.nga.gov/cgi-bin/tsearch?artistid=5846\n",
      "Zampieri, Domenico\n",
      "https://web.archive.org/web/20121007172955/https://www.nga.gov/cgi-bin/tsearch?artistid=3941\n",
      "Zampieri, called Domenichino, Domenico\n",
      "https://web.archive.org/web/20121007172955/https://www.nga.gov/cgi-bin/tsearch?artistid=3941\n",
      "Zanartú, Enrique Antunez\n",
      "https://web.archive.org/web/20121007172955/https://www.nga.gov/cgi-bin/tsearch?artistid=3453\n",
      "Zanchi, Antonio\n",
      "https://web.archive.org/web/20121007172955/https://www.nga.gov/cgi-bin/tsearch?artistid=35173\n",
      "Zanetti, Anton Maria\n",
      "https://web.archive.org/web/20121007172955/https://www.nga.gov/cgi-bin/tsearch?artistid=11133\n",
      "Zanetti Borzino, Leopoldina\n",
      "https://web.archive.org/web/20121007172955/https://www.nga.gov/cgi-bin/tsearch?artistid=3455\n",
      "Zanetti I, Antonio Maria, conte\n",
      "https://web.archive.org/web/20121007172955/https://www.nga.gov/cgi-bin/tsearch?artistid=3454\n",
      "Zanguidi, Jacopo\n",
      "https://web.archive.org/web/20121007172955/https://www.nga.gov/cgi-bin/tsearch?artistid=961\n",
      "Zanini, Giuseppe\n",
      "https://web.archive.org/web/20121007172955/https://www.nga.gov/cgi-bin/tsearch?artistid=11597\n",
      "Zanini-Viola, Giuseppe\n",
      "https://web.archive.org/web/20121007172955/https://www.nga.gov/cgi-bin/tsearch?artistid=11597\n",
      "Zanotti, Giampietro\n",
      "https://web.archive.org/web/20121007172955/https://www.nga.gov/cgi-bin/tsearch?artistid=11631\n",
      "Zao Wou-Ki\n",
      "https://web.archive.org/web/20121007172955/https://www.nga.gov/cgi-bin/tsearch?artistid=3427\n"
     ]
    }
   ],
   "source": [
    "artists = []\n",
    "for artist_name in artist_name_list_items:\n",
    "    names = artist_name.contents[0]\n",
    "    links = 'https://web.archive.org' + artist_name.get('href')\n",
    "    artists.append([names,links])\n",
    "    print(names)\n",
    "    print(links)\n"
   ]
  },
  {
   "cell_type": "code",
   "execution_count": 20,
   "metadata": {},
   "outputs": [
    {
     "name": "stdout",
     "output_type": "stream",
     "text": [
      "[['Zabaglia, Niccola', 'https://web.archive.org/web/20121007172955/https://www.nga.gov/cgi-bin/tsearch?artistid=11630'], ['Zaccone, Fabian', 'https://web.archive.org/web/20121007172955/https://www.nga.gov/cgi-bin/tsearch?artistid=34202'], ['Zadkine, Ossip', 'https://web.archive.org/web/20121007172955/https://www.nga.gov/cgi-bin/tsearch?artistid=3475'], ['Zaech, Bernhard', 'https://web.archive.org/web/20121007172955/https://www.nga.gov/cgi-bin/tsearch?artistid=25135'], ['Zagar, Jacob', 'https://web.archive.org/web/20121007172955/https://www.nga.gov/cgi-bin/tsearch?artistid=2298'], ['Zagroba, Idalia', 'https://web.archive.org/web/20121007172955/https://www.nga.gov/cgi-bin/tsearch?artistid=23988'], ['Zaidenberg, A.', 'https://web.archive.org/web/20121007172955/https://www.nga.gov/cgi-bin/tsearch?artistid=8232'], ['Zaidenberg, Arthur', 'https://web.archive.org/web/20121007172955/https://www.nga.gov/cgi-bin/tsearch?artistid=34154'], ['Zaisinger, Matthäus', 'https://web.archive.org/web/20121007172955/https://www.nga.gov/cgi-bin/tsearch?artistid=4910'], ['Zajac, Jack', 'https://web.archive.org/web/20121007172955/https://www.nga.gov/cgi-bin/tsearch?artistid=3450'], ['Zak, Eugène', 'https://web.archive.org/web/20121007172955/https://www.nga.gov/cgi-bin/tsearch?artistid=1986'], ['Zakharov, Gurii Fillipovich', 'https://web.archive.org/web/20121007172955/https://www.nga.gov/cgi-bin/tsearch?artistid=3451'], ['Zakowortny, Igor', 'https://web.archive.org/web/20121007172955/https://www.nga.gov/cgi-bin/tsearch?artistid=20099'], ['Zalce, Alfredo', 'https://web.archive.org/web/20121007172955/https://www.nga.gov/cgi-bin/tsearch?artistid=3452'], ['Zalopany, Michele', 'https://web.archive.org/web/20121007172955/https://www.nga.gov/cgi-bin/tsearch?artistid=34309'], ['Zammiello, Craig', 'https://web.archive.org/web/20121007172955/https://www.nga.gov/cgi-bin/tsearch?artistid=27191'], ['Zammitt, Norman', 'https://web.archive.org/web/20121007172955/https://www.nga.gov/cgi-bin/tsearch?artistid=5846'], ['Zampieri, Domenico', 'https://web.archive.org/web/20121007172955/https://www.nga.gov/cgi-bin/tsearch?artistid=3941'], ['Zampieri, called Domenichino, Domenico', 'https://web.archive.org/web/20121007172955/https://www.nga.gov/cgi-bin/tsearch?artistid=3941'], ['Zanartú, Enrique Antunez', 'https://web.archive.org/web/20121007172955/https://www.nga.gov/cgi-bin/tsearch?artistid=3453'], ['Zanchi, Antonio', 'https://web.archive.org/web/20121007172955/https://www.nga.gov/cgi-bin/tsearch?artistid=35173'], ['Zanetti, Anton Maria', 'https://web.archive.org/web/20121007172955/https://www.nga.gov/cgi-bin/tsearch?artistid=11133'], ['Zanetti Borzino, Leopoldina', 'https://web.archive.org/web/20121007172955/https://www.nga.gov/cgi-bin/tsearch?artistid=3455'], ['Zanetti I, Antonio Maria, conte', 'https://web.archive.org/web/20121007172955/https://www.nga.gov/cgi-bin/tsearch?artistid=3454'], ['Zanguidi, Jacopo', 'https://web.archive.org/web/20121007172955/https://www.nga.gov/cgi-bin/tsearch?artistid=961'], ['Zanini, Giuseppe', 'https://web.archive.org/web/20121007172955/https://www.nga.gov/cgi-bin/tsearch?artistid=11597'], ['Zanini-Viola, Giuseppe', 'https://web.archive.org/web/20121007172955/https://www.nga.gov/cgi-bin/tsearch?artistid=11597'], ['Zanotti, Giampietro', 'https://web.archive.org/web/20121007172955/https://www.nga.gov/cgi-bin/tsearch?artistid=11631'], ['Zao Wou-Ki', 'https://web.archive.org/web/20121007172955/https://www.nga.gov/cgi-bin/tsearch?artistid=3427']]\n"
     ]
    }
   ],
   "source": [
    "print(artists)"
   ]
  },
  {
   "cell_type": "code",
   "execution_count": null,
   "metadata": {},
   "outputs": [],
   "source": [
    "#Change list to Pandas dataframe and add column names \n"
   ]
  },
  {
   "cell_type": "code",
   "execution_count": null,
   "metadata": {},
   "outputs": [],
   "source": [
    "# Save the df to a CSV/xlsx file"
   ]
  },
  {
   "cell_type": "code",
   "execution_count": null,
   "metadata": {},
   "outputs": [],
   "source": [
    "# Write a loop for scraping all pages \n",
    "\n",
    "# Import Libraries\n",
    "\n",
    "# Run a for loop iterating through all 5 pages and gathering contents\n",
    "\n",
    "# Run a second for loop to repeat the above process for all 5 pages \n",
    "\n",
    "# Write contents to pandas DF and save as a CSV file\n"
   ]
  },
  {
   "cell_type": "code",
   "execution_count": null,
   "metadata": {},
   "outputs": [],
   "source": []
  }
 ],
 "metadata": {
  "kernelspec": {
   "display_name": "Python 3",
   "language": "python",
   "name": "python3"
  },
  "language_info": {
   "codemirror_mode": {
    "name": "ipython",
    "version": 3
   },
   "file_extension": ".py",
   "mimetype": "text/x-python",
   "name": "python",
   "nbconvert_exporter": "python",
   "pygments_lexer": "ipython3",
   "version": "3.6.5"
  }
 },
 "nbformat": 4,
 "nbformat_minor": 2
}
