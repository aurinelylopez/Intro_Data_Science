{
 "cells": [
  {
   "cell_type": "markdown",
   "metadata": {},
   "source": [
    "# API Call Introduction\n",
    "\n",
    "Recall our previous paired programming problem using project gutenberg where we used the requests package to download a text file hosted on the web:"
   ]
  },
  {
   "cell_type": "code",
   "execution_count": 1,
   "metadata": {},
   "outputs": [],
   "source": [
    "import requests\n",
    "alice_wonderland = requests.get('https://www.gutenberg.org/files/11/11-0.txt').text"
   ]
  },
  {
   "cell_type": "markdown",
   "metadata": {},
   "source": [
    "At their most basic, API calls are essentially the same: retrieve some specific information from the web through a request. All of the complexities are in their formatting and what kinds of requests each specific API lets you make.  \n",
    "\n",
    "Here's a really simple API:"
   ]
  },
  {
   "cell_type": "code",
   "execution_count": null,
   "metadata": {},
   "outputs": [],
   "source": [
    "https://api.github.com/users/username"
   ]
  },
  {
   "cell_type": "code",
   "execution_count": null,
   "metadata": {},
   "outputs": [],
   "source": [
    "Try replacing username with an actual username and seeing what it returns."
   ]
  },
  {
   "cell_type": "code",
   "execution_count": 2,
   "metadata": {},
   "outputs": [],
   "source": [
    "response = requests.get('https://api.github.com/users/matthew-mitchell')"
   ]
  },
  {
   "cell_type": "code",
   "execution_count": 8,
   "metadata": {},
   "outputs": [
    {
     "data": {
      "text/plain": [
       "<Response [200]>"
      ]
     },
     "execution_count": 8,
     "metadata": {},
     "output_type": "execute_result"
    }
   ],
   "source": [
    "response"
   ]
  },
  {
   "cell_type": "code",
   "execution_count": 9,
   "metadata": {},
   "outputs": [
    {
     "data": {
      "text/plain": [
       "dict"
      ]
     },
     "execution_count": 9,
     "metadata": {},
     "output_type": "execute_result"
    }
   ],
   "source": [
    "type(response.json())"
   ]
  },
  {
   "cell_type": "code",
   "execution_count": 4,
   "metadata": {},
   "outputs": [
    {
     "data": {
      "text/plain": [
       "'{\"login\":\"Matthew-Mitchell\",\"id\":18408716,\"node_id\":\"MDQ6VXNlcjE4NDA4NzE2\",\"avatar_url\":\"https://avatars2.githubusercontent.com/u/18408716?v=4\",\"gravatar_id\":\"\",\"url\":\"https://api.github.com/users/Matthew-Mitchell\",\"html_url\":\"https://github.com/Matthew-Mitchell\",\"followers_url\":\"https://api.github.com/users/Matthew-Mitchell/followers\",\"following_url\":\"https://api.github.com/users/Matthew-Mitchell/following{/other_user}\",\"gists_url\":\"https://api.github.com/users/Matthew-Mitchell/gists{/gist_id}\",\"starred_url\":\"https://api.github.com/users/Matthew-Mitchell/starred{/owner}{/repo}\",\"subscriptions_url\":\"https://api.github.com/users/Matthew-Mitchell/subscriptions\",\"organizations_url\":\"https://api.github.com/users/Matthew-Mitchell/orgs\",\"repos_url\":\"https://api.github.com/users/Matthew-Mitchell/repos\",\"events_url\":\"https://api.github.com/users/Matthew-Mitchell/events{/privacy}\",\"received_events_url\":\"https://api.github.com/users/Matthew-Mitchell/received_events\",\"type\":\"User\",\"site_admin\":false,\"name\":\"Matthew Mitchell\",\"company\":null,\"blog\":\"https://matthew-mitchell.github.io\",\"location\":\"New York, NY\",\"email\":null,\"hireable\":true,\"bio\":\"Data Scientist at Hearts & Science\",\"public_repos\":15,\"public_gists\":4,\"followers\":4,\"following\":14,\"created_at\":\"2016-04-11T23:14:01Z\",\"updated_at\":\"2018-07-11T04:43:25Z\"}'"
      ]
     },
     "execution_count": 4,
     "metadata": {},
     "output_type": "execute_result"
    }
   ],
   "source": [
    "response.text"
   ]
  },
  {
   "cell_type": "code",
   "execution_count": 10,
   "metadata": {},
   "outputs": [
    {
     "data": {
      "text/plain": [
       "'Matthew Mitchell'"
      ]
     },
     "execution_count": 10,
     "metadata": {},
     "output_type": "execute_result"
    }
   ],
   "source": [
    "response.json()"
   ]
  },
  {
   "cell_type": "code",
   "execution_count": null,
   "metadata": {},
   "outputs": [],
   "source": [
    "'https://api.github.com/users/'+username"
   ]
  },
  {
   "cell_type": "code",
   "execution_count": 11,
   "metadata": {},
   "outputs": [],
   "source": [
    "def get_github_creds(username):\n",
    "    response = requests.get('https://api.github.com/users/{}'.format(username))\n",
    "    return response"
   ]
  },
  {
   "cell_type": "code",
   "execution_count": 12,
   "metadata": {},
   "outputs": [],
   "source": [
    "import pandas as pd"
   ]
  },
  {
   "cell_type": "code",
   "execution_count": 17,
   "metadata": {},
   "outputs": [
    {
     "data": {
      "text/html": [
       "<div>\n",
       "<style scoped>\n",
       "    .dataframe tbody tr th:only-of-type {\n",
       "        vertical-align: middle;\n",
       "    }\n",
       "\n",
       "    .dataframe tbody tr th {\n",
       "        vertical-align: top;\n",
       "    }\n",
       "\n",
       "    .dataframe thead th {\n",
       "        text-align: right;\n",
       "    }\n",
       "</style>\n",
       "<table border=\"1\" class=\"dataframe\">\n",
       "  <thead>\n",
       "    <tr style=\"text-align: right;\">\n",
       "      <th></th>\n",
       "      <th>login</th>\n",
       "      <th>id</th>\n",
       "      <th>node_id</th>\n",
       "      <th>avatar_url</th>\n",
       "      <th>gravatar_id</th>\n",
       "      <th>url</th>\n",
       "      <th>html_url</th>\n",
       "      <th>followers_url</th>\n",
       "      <th>following_url</th>\n",
       "      <th>gists_url</th>\n",
       "      <th>...</th>\n",
       "      <th>location</th>\n",
       "      <th>email</th>\n",
       "      <th>hireable</th>\n",
       "      <th>bio</th>\n",
       "      <th>public_repos</th>\n",
       "      <th>public_gists</th>\n",
       "      <th>followers</th>\n",
       "      <th>following</th>\n",
       "      <th>created_at</th>\n",
       "      <th>updated_at</th>\n",
       "    </tr>\n",
       "  </thead>\n",
       "  <tbody>\n",
       "    <tr>\n",
       "      <th>0</th>\n",
       "      <td>Matthew-Mitchell</td>\n",
       "      <td>18408716</td>\n",
       "      <td>MDQ6VXNlcjE4NDA4NzE2</td>\n",
       "      <td>https://avatars2.githubusercontent.com/u/18408...</td>\n",
       "      <td></td>\n",
       "      <td>https://api.github.com/users/Matthew-Mitchell</td>\n",
       "      <td>https://github.com/Matthew-Mitchell</td>\n",
       "      <td>https://api.github.com/users/Matthew-Mitchell/...</td>\n",
       "      <td>https://api.github.com/users/Matthew-Mitchell/...</td>\n",
       "      <td>https://api.github.com/users/Matthew-Mitchell/...</td>\n",
       "      <td>...</td>\n",
       "      <td>New York, NY</td>\n",
       "      <td>None</td>\n",
       "      <td>True</td>\n",
       "      <td>Data Scientist at Hearts &amp; Science</td>\n",
       "      <td>15</td>\n",
       "      <td>4</td>\n",
       "      <td>4</td>\n",
       "      <td>14</td>\n",
       "      <td>2016-04-11T23:14:01Z</td>\n",
       "      <td>2018-07-11T04:43:25Z</td>\n",
       "    </tr>\n",
       "  </tbody>\n",
       "</table>\n",
       "<p>1 rows × 31 columns</p>\n",
       "</div>"
      ],
      "text/plain": [
       "              login        id               node_id  \\\n",
       "0  Matthew-Mitchell  18408716  MDQ6VXNlcjE4NDA4NzE2   \n",
       "\n",
       "                                          avatar_url gravatar_id  \\\n",
       "0  https://avatars2.githubusercontent.com/u/18408...               \n",
       "\n",
       "                                             url  \\\n",
       "0  https://api.github.com/users/Matthew-Mitchell   \n",
       "\n",
       "                              html_url  \\\n",
       "0  https://github.com/Matthew-Mitchell   \n",
       "\n",
       "                                       followers_url  \\\n",
       "0  https://api.github.com/users/Matthew-Mitchell/...   \n",
       "\n",
       "                                       following_url  \\\n",
       "0  https://api.github.com/users/Matthew-Mitchell/...   \n",
       "\n",
       "                                           gists_url          ...           \\\n",
       "0  https://api.github.com/users/Matthew-Mitchell/...          ...            \n",
       "\n",
       "       location email hireable                                 bio  \\\n",
       "0  New York, NY  None     True  Data Scientist at Hearts & Science   \n",
       "\n",
       "  public_repos public_gists followers following            created_at  \\\n",
       "0           15            4         4        14  2016-04-11T23:14:01Z   \n",
       "\n",
       "             updated_at  \n",
       "0  2018-07-11T04:43:25Z  \n",
       "\n",
       "[1 rows x 31 columns]"
      ]
     },
     "execution_count": 17,
     "metadata": {},
     "output_type": "execute_result"
    }
   ],
   "source": [
    "pd.DataFrame.from_dict(response.json(), orient='index').transpose()"
   ]
  },
  {
   "cell_type": "code",
   "execution_count": null,
   "metadata": {},
   "outputs": [],
   "source": []
  }
 ],
 "metadata": {
  "kernelspec": {
   "display_name": "Python 3",
   "language": "python",
   "name": "python3"
  },
  "language_info": {
   "codemirror_mode": {
    "name": "ipython",
    "version": 3
   },
   "file_extension": ".py",
   "mimetype": "text/x-python",
   "name": "python",
   "nbconvert_exporter": "python",
   "pygments_lexer": "ipython3",
   "version": "3.6.5"
  }
 },
 "nbformat": 4,
 "nbformat_minor": 2
}
