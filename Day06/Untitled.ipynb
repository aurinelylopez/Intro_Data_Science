{
 "cells": [
  {
   "cell_type": "markdown",
   "metadata": {},
   "source": [
    "## Print all pairwise combinations of a given list. \n",
    "For example, given the list [1,2,3,4], the possible combinations are:\n",
    "[1,2]\n",
    "[1,3]\n",
    "[1,4]\n",
    "[2,3]\n",
    "[2,4]\n",
    "[3,4]\n",
    "\n",
    "(Order doesn't matter in combinations.)\n",
    "\n",
    "## Bonus: generate all the pairwise permutations (order does matter) of a given list."
   ]
  },
  {
   "cell_type": "code",
   "execution_count": null,
   "metadata": {},
   "outputs": [],
   "source": []
  }
 ],
 "metadata": {
  "kernelspec": {
   "display_name": "Python 3",
   "language": "python",
   "name": "python3"
  },
  "language_info": {
   "codemirror_mode": {
    "name": "ipython",
    "version": 3
   },
   "file_extension": ".py",
   "mimetype": "text/x-python",
   "name": "python",
   "nbconvert_exporter": "python",
   "pygments_lexer": "ipython3",
   "version": "3.6.5"
  }
 },
 "nbformat": 4,
 "nbformat_minor": 2
}
