{
 "cells": [
  {
   "cell_type": "markdown",
   "metadata": {},
   "source": [
    "## Print all pairwise combinations of a given list. \n",
    "For example, given the list [1,2,3,4], the possible combinations are:\n",
    "[1,2]\n",
    "[1,3]\n",
    "[1,4]\n",
    "[2,3]\n",
    "[2,4]\n",
    "[3,4]\n",
    "\n",
    "(Order doesn't matter in combinations.)\n",
    "\n",
    "## Bonus: generate all the pairwise permutations (order does matter) of a given list."
   ]
  },
  {
   "cell_type": "markdown",
   "metadata": {},
   "source": [
    "['Nick', 'Jenny', 'Kelly', 'Matt']\n",
    "Take first thing and then next till the end\n",
    "'Nick' + 'Jenny'\n",
    "'Nick' + 'Kelly'\n",
    "until the end\n",
    "\n",
    "Then start with next person\n",
    "'Jenny' + 'Kelly'\n",
    "'Jenny' + 'Matt'"
   ]
  },
  {
   "cell_type": "code",
   "execution_count": 1,
   "metadata": {},
   "outputs": [],
   "source": [
    "things = [1,2,3,4]"
   ]
  },
  {
   "cell_type": "code",
   "execution_count": 3,
   "metadata": {},
   "outputs": [
    {
     "name": "stdout",
     "output_type": "stream",
     "text": [
      "0 1\n",
      "1 2\n",
      "2 3\n",
      "3 4\n"
     ]
    }
   ],
   "source": [
    "for n, terrible_variable_name in enumerate(things):\n",
    "    print(n, things[n])"
   ]
  },
  {
   "cell_type": "code",
   "execution_count": 6,
   "metadata": {},
   "outputs": [
    {
     "name": "stdout",
     "output_type": "stream",
     "text": [
      "0 cat\n",
      "1 dog\n",
      "2 chicken\n"
     ]
    }
   ],
   "source": [
    "things2 = ['cat', 'dog', 'chicken']\n",
    "for n, terrible_variable_name in enumerate(things2):\n",
    "    print(n, things2[n])"
   ]
  },
  {
   "cell_type": "code",
   "execution_count": 8,
   "metadata": {},
   "outputs": [
    {
     "data": {
      "text/plain": [
       "[0, 1, 2, 3, 4, 5, 6, 7, 8, 9]"
      ]
     },
     "execution_count": 8,
     "metadata": {},
     "output_type": "execute_result"
    }
   ],
   "source": [
    "list(range(10))"
   ]
  },
  {
   "cell_type": "code",
   "execution_count": 24,
   "metadata": {},
   "outputs": [],
   "source": [
    "animals = ['cat', 'dog', 'chicken', 'ape', 'spider', 'dolphin', 'shark', 'octopus', 'elephant', 'grasshopper']"
   ]
  },
  {
   "cell_type": "code",
   "execution_count": 25,
   "metadata": {},
   "outputs": [],
   "source": [
    "from itertools import combinations"
   ]
  },
  {
   "cell_type": "code",
   "execution_count": 32,
   "metadata": {},
   "outputs": [
    {
     "name": "stdout",
     "output_type": "stream",
     "text": [
      "10\n",
      "45\n",
      "120\n",
      "210\n",
      "252\n",
      "210\n",
      "120\n",
      "45\n",
      "10\n",
      "1\n"
     ]
    }
   ],
   "source": [
    "for i in range(1, len(animals)+1):\n",
    "    print(len(list(combinations(animals, i))))"
   ]
  },
  {
   "cell_type": "code",
   "execution_count": 27,
   "metadata": {},
   "outputs": [
    {
     "name": "stdout",
     "output_type": "stream",
     "text": [
      "('cat', 'dog', 'chicken')\n",
      "('cat', 'dog', 'ape')\n",
      "('cat', 'dog', 'spider')\n",
      "('cat', 'dog', 'dolphin')\n",
      "('cat', 'dog', 'shark')\n",
      "('cat', 'dog', 'octopus')\n",
      "('cat', 'dog', 'elephant')\n",
      "('cat', 'dog', 'grasshopper')\n",
      "('cat', 'chicken', 'ape')\n",
      "('cat', 'chicken', 'spider')\n",
      "('cat', 'chicken', 'dolphin')\n",
      "('cat', 'chicken', 'shark')\n",
      "('cat', 'chicken', 'octopus')\n",
      "('cat', 'chicken', 'elephant')\n",
      "('cat', 'chicken', 'grasshopper')\n",
      "('cat', 'ape', 'spider')\n",
      "('cat', 'ape', 'dolphin')\n",
      "('cat', 'ape', 'shark')\n",
      "('cat', 'ape', 'octopus')\n",
      "('cat', 'ape', 'elephant')\n",
      "('cat', 'ape', 'grasshopper')\n",
      "('cat', 'spider', 'dolphin')\n",
      "('cat', 'spider', 'shark')\n",
      "('cat', 'spider', 'octopus')\n",
      "('cat', 'spider', 'elephant')\n",
      "('cat', 'spider', 'grasshopper')\n",
      "('cat', 'dolphin', 'shark')\n",
      "('cat', 'dolphin', 'octopus')\n",
      "('cat', 'dolphin', 'elephant')\n",
      "('cat', 'dolphin', 'grasshopper')\n",
      "('cat', 'shark', 'octopus')\n",
      "('cat', 'shark', 'elephant')\n",
      "('cat', 'shark', 'grasshopper')\n",
      "('cat', 'octopus', 'elephant')\n",
      "('cat', 'octopus', 'grasshopper')\n",
      "('cat', 'elephant', 'grasshopper')\n",
      "('dog', 'chicken', 'ape')\n",
      "('dog', 'chicken', 'spider')\n",
      "('dog', 'chicken', 'dolphin')\n",
      "('dog', 'chicken', 'shark')\n",
      "('dog', 'chicken', 'octopus')\n",
      "('dog', 'chicken', 'elephant')\n",
      "('dog', 'chicken', 'grasshopper')\n",
      "('dog', 'ape', 'spider')\n",
      "('dog', 'ape', 'dolphin')\n",
      "('dog', 'ape', 'shark')\n",
      "('dog', 'ape', 'octopus')\n",
      "('dog', 'ape', 'elephant')\n",
      "('dog', 'ape', 'grasshopper')\n",
      "('dog', 'spider', 'dolphin')\n",
      "('dog', 'spider', 'shark')\n",
      "('dog', 'spider', 'octopus')\n",
      "('dog', 'spider', 'elephant')\n",
      "('dog', 'spider', 'grasshopper')\n",
      "('dog', 'dolphin', 'shark')\n",
      "('dog', 'dolphin', 'octopus')\n",
      "('dog', 'dolphin', 'elephant')\n",
      "('dog', 'dolphin', 'grasshopper')\n",
      "('dog', 'shark', 'octopus')\n",
      "('dog', 'shark', 'elephant')\n",
      "('dog', 'shark', 'grasshopper')\n",
      "('dog', 'octopus', 'elephant')\n",
      "('dog', 'octopus', 'grasshopper')\n",
      "('dog', 'elephant', 'grasshopper')\n",
      "('chicken', 'ape', 'spider')\n",
      "('chicken', 'ape', 'dolphin')\n",
      "('chicken', 'ape', 'shark')\n",
      "('chicken', 'ape', 'octopus')\n",
      "('chicken', 'ape', 'elephant')\n",
      "('chicken', 'ape', 'grasshopper')\n",
      "('chicken', 'spider', 'dolphin')\n",
      "('chicken', 'spider', 'shark')\n",
      "('chicken', 'spider', 'octopus')\n",
      "('chicken', 'spider', 'elephant')\n",
      "('chicken', 'spider', 'grasshopper')\n",
      "('chicken', 'dolphin', 'shark')\n",
      "('chicken', 'dolphin', 'octopus')\n",
      "('chicken', 'dolphin', 'elephant')\n",
      "('chicken', 'dolphin', 'grasshopper')\n",
      "('chicken', 'shark', 'octopus')\n",
      "('chicken', 'shark', 'elephant')\n",
      "('chicken', 'shark', 'grasshopper')\n",
      "('chicken', 'octopus', 'elephant')\n",
      "('chicken', 'octopus', 'grasshopper')\n",
      "('chicken', 'elephant', 'grasshopper')\n",
      "('ape', 'spider', 'dolphin')\n",
      "('ape', 'spider', 'shark')\n",
      "('ape', 'spider', 'octopus')\n",
      "('ape', 'spider', 'elephant')\n",
      "('ape', 'spider', 'grasshopper')\n",
      "('ape', 'dolphin', 'shark')\n",
      "('ape', 'dolphin', 'octopus')\n",
      "('ape', 'dolphin', 'elephant')\n",
      "('ape', 'dolphin', 'grasshopper')\n",
      "('ape', 'shark', 'octopus')\n",
      "('ape', 'shark', 'elephant')\n",
      "('ape', 'shark', 'grasshopper')\n",
      "('ape', 'octopus', 'elephant')\n",
      "('ape', 'octopus', 'grasshopper')\n",
      "('ape', 'elephant', 'grasshopper')\n",
      "('spider', 'dolphin', 'shark')\n",
      "('spider', 'dolphin', 'octopus')\n",
      "('spider', 'dolphin', 'elephant')\n",
      "('spider', 'dolphin', 'grasshopper')\n",
      "('spider', 'shark', 'octopus')\n",
      "('spider', 'shark', 'elephant')\n",
      "('spider', 'shark', 'grasshopper')\n",
      "('spider', 'octopus', 'elephant')\n",
      "('spider', 'octopus', 'grasshopper')\n",
      "('spider', 'elephant', 'grasshopper')\n",
      "('dolphin', 'shark', 'octopus')\n",
      "('dolphin', 'shark', 'elephant')\n",
      "('dolphin', 'shark', 'grasshopper')\n",
      "('dolphin', 'octopus', 'elephant')\n",
      "('dolphin', 'octopus', 'grasshopper')\n",
      "('dolphin', 'elephant', 'grasshopper')\n",
      "('shark', 'octopus', 'elephant')\n",
      "('shark', 'octopus', 'grasshopper')\n",
      "('shark', 'elephant', 'grasshopper')\n",
      "('octopus', 'elephant', 'grasshopper')\n"
     ]
    }
   ],
   "source": [
    "for combo in combinations(animals, 3):\n",
    "    print(combo)"
   ]
  },
  {
   "cell_type": "code",
   "execution_count": 18,
   "metadata": {},
   "outputs": [],
   "source": [
    "combos = []\n",
    "for n, thing1 in enumerate(things2):\n",
    "#     print(thing1)\n",
    "    for thing2 in things2[n+1:]:\n",
    "        combos.append([thing1, thing2])"
   ]
  },
  {
   "cell_type": "code",
   "execution_count": 20,
   "metadata": {},
   "outputs": [
    {
     "data": {
      "text/plain": [
       "['cat', 'dog']"
      ]
     },
     "execution_count": 20,
     "metadata": {},
     "output_type": "execute_result"
    }
   ],
   "source": [
    "combos[0]"
   ]
  },
  {
   "cell_type": "code",
   "execution_count": 21,
   "metadata": {},
   "outputs": [
    {
     "data": {
      "text/plain": [
       "['elephant', 'grasshopper']"
      ]
     },
     "execution_count": 21,
     "metadata": {},
     "output_type": "execute_result"
    }
   ],
   "source": [
    "combos[-1]"
   ]
  },
  {
   "cell_type": "code",
   "execution_count": 19,
   "metadata": {},
   "outputs": [
    {
     "data": {
      "text/plain": [
       "[['cat', 'dog'],\n",
       " ['cat', 'chicken'],\n",
       " ['cat', 'ape'],\n",
       " ['cat', 'spider'],\n",
       " ['cat', 'dolphin'],\n",
       " ['cat', 'shark'],\n",
       " ['cat', 'octopus'],\n",
       " ['cat', 'elephant'],\n",
       " ['cat', 'grasshopper'],\n",
       " ['dog', 'chicken'],\n",
       " ['dog', 'ape'],\n",
       " ['dog', 'spider'],\n",
       " ['dog', 'dolphin'],\n",
       " ['dog', 'shark'],\n",
       " ['dog', 'octopus'],\n",
       " ['dog', 'elephant'],\n",
       " ['dog', 'grasshopper'],\n",
       " ['chicken', 'ape'],\n",
       " ['chicken', 'spider'],\n",
       " ['chicken', 'dolphin'],\n",
       " ['chicken', 'shark'],\n",
       " ['chicken', 'octopus'],\n",
       " ['chicken', 'elephant'],\n",
       " ['chicken', 'grasshopper'],\n",
       " ['ape', 'spider'],\n",
       " ['ape', 'dolphin'],\n",
       " ['ape', 'shark'],\n",
       " ['ape', 'octopus'],\n",
       " ['ape', 'elephant'],\n",
       " ['ape', 'grasshopper'],\n",
       " ['spider', 'dolphin'],\n",
       " ['spider', 'shark'],\n",
       " ['spider', 'octopus'],\n",
       " ['spider', 'elephant'],\n",
       " ['spider', 'grasshopper'],\n",
       " ['dolphin', 'shark'],\n",
       " ['dolphin', 'octopus'],\n",
       " ['dolphin', 'elephant'],\n",
       " ['dolphin', 'grasshopper'],\n",
       " ['shark', 'octopus'],\n",
       " ['shark', 'elephant'],\n",
       " ['shark', 'grasshopper'],\n",
       " ['octopus', 'elephant'],\n",
       " ['octopus', 'grasshopper'],\n",
       " ['elephant', 'grasshopper']]"
      ]
     },
     "execution_count": 19,
     "metadata": {},
     "output_type": "execute_result"
    }
   ],
   "source": [
    "combos"
   ]
  },
  {
   "cell_type": "code",
   "execution_count": 33,
   "metadata": {},
   "outputs": [
    {
     "data": {
      "text/plain": [
       "['cat',\n",
       " 'dog',\n",
       " 'chicken',\n",
       " 'ape',\n",
       " 'spider',\n",
       " 'dolphin',\n",
       " 'shark',\n",
       " 'octopus',\n",
       " 'elephant',\n",
       " 'grasshopper']"
      ]
     },
     "execution_count": 33,
     "metadata": {},
     "output_type": "execute_result"
    }
   ],
   "source": [
    "animals"
   ]
  },
  {
   "cell_type": "code",
   "execution_count": null,
   "metadata": {},
   "outputs": [],
   "source": [
    "combos = []\n",
    "for n, thing1 in enumerate(things2):\n",
    "    for thing2 in things2[n+1:]:\n",
    "        combos.append([thing1, thing2])"
   ]
  },
  {
   "cell_type": "code",
   "execution_count": 34,
   "metadata": {},
   "outputs": [
    {
     "name": "stdout",
     "output_type": "stream",
     "text": [
      "cat dog\n",
      "cat chicken\n",
      "cat ape\n",
      "cat spider\n",
      "cat dolphin\n",
      "cat shark\n",
      "cat octopus\n",
      "cat elephant\n",
      "cat grasshopper\n",
      "dog chicken\n",
      "dog ape\n",
      "dog spider\n",
      "dog dolphin\n",
      "dog shark\n",
      "dog octopus\n",
      "dog elephant\n",
      "dog grasshopper\n",
      "chicken ape\n",
      "chicken spider\n",
      "chicken dolphin\n",
      "chicken shark\n",
      "chicken octopus\n",
      "chicken elephant\n",
      "chicken grasshopper\n",
      "ape spider\n",
      "ape dolphin\n",
      "ape shark\n",
      "ape octopus\n",
      "ape elephant\n",
      "ape grasshopper\n",
      "spider dolphin\n",
      "spider shark\n",
      "spider octopus\n",
      "spider elephant\n",
      "spider grasshopper\n",
      "dolphin shark\n",
      "dolphin octopus\n",
      "dolphin elephant\n",
      "dolphin grasshopper\n",
      "shark octopus\n",
      "shark elephant\n",
      "shark grasshopper\n",
      "octopus elephant\n",
      "octopus grasshopper\n",
      "elephant grasshopper\n"
     ]
    }
   ],
   "source": [
    "for n, animal in enumerate(animals):\n",
    "    iteration = 1\n",
    "    while n+iteration < len(animals):\n",
    "        print(animal, animals[n+iteration])\n",
    "        iteration +=1 "
   ]
  },
  {
   "cell_type": "code",
   "execution_count": null,
   "metadata": {},
   "outputs": [],
   "source": []
  }
 ],
 "metadata": {
  "kernelspec": {
   "display_name": "Python 3",
   "language": "python",
   "name": "python3"
  },
  "language_info": {
   "codemirror_mode": {
    "name": "ipython",
    "version": 3
   },
   "file_extension": ".py",
   "mimetype": "text/x-python",
   "name": "python",
   "nbconvert_exporter": "python",
   "pygments_lexer": "ipython3",
   "version": "3.6.5"
  }
 },
 "nbformat": 4,
 "nbformat_minor": 2
}
